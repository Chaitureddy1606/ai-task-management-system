{
  "cells": [
    {
      "cell_type": "code",
      "execution_count": null,
      "metadata": {
        "vscode": {
          "languageId": "plaintext"
        }
      },
      "outputs": [],
      "source": [
        "# AI Task Management System - Exploratory Data Analysis\n",
        "\n",
        "This notebook demonstrates the complete pipeline for the AI Task Management System, including data loading, preprocessing, model training, and analysis.\n",
        "\n",
        "## Overview\n",
        "\n",
        "The AI Task Management System uses machine learning to:\n",
        "- **Prioritize tasks** based on urgency, complexity, and deadlines\n",
        "- **Classify tasks** into categories (bug, feature, security, etc.)\n",
        "- **Assign tasks** to team members based on skills and workload\n",
        "- **Analyze team performance** and provide insights\n",
        "\n",
        "Let's explore each component of the system!\n"
      ]
    },
    {
      "cell_type": "code",
      "execution_count": null,
      "metadata": {},
      "outputs": [],
      "source": [
        "# Import required libraries\n",
        "import pandas as pd\n",
        "import numpy as np\n",
        "import matplotlib.pyplot as plt\n",
        "import seaborn as sns\n",
        "import sys\n",
        "import os\n",
        "from datetime import datetime, timedelta\n",
        "\n",
        "# Add src directory to path\n",
        "sys.path.append('../src')\n",
        "sys.path.append('..')\n",
        "\n",
        "# Import our custom modules\n",
        "from src.utils import load_employee_profiles, connect_db, create_tasks_table\n",
        "from src.preprocessing import TaskDataPreprocessor, load_and_preprocess_task_data\n",
        "from src.priority_model import TaskPriorityModel, create_sample_priority_data\n",
        "from src.classifier import TaskClassifier\n",
        "from src.task_assigner import IntelligentTaskAssigner\n",
        "from src.feature_engineering import TaskFeatureEngineer\n",
        "\n",
        "# Set up plotting\n",
        "plt.style.use('seaborn-v0_8')\n",
        "sns.set_palette(\"husl\")\n",
        "%matplotlib inline\n",
        "\n",
        "print(\"✅ All imports successful!\")\n",
        "print(\"📊 Ready to analyze the AI Task Management System\")\n"
      ]
    },
    {
      "cell_type": "code",
      "execution_count": null,
      "metadata": {},
      "outputs": [],
      "source": [
        "## 1. Data Loading and Initial Exploration\n",
        "\n",
        "Let's start by loading our employee profiles and creating some sample task data to work with.\n"
      ]
    },
    {
      "cell_type": "code",
      "execution_count": null,
      "metadata": {},
      "outputs": [],
      "source": [
        "# Load employee profiles\n",
        "employee_profiles = load_employee_profiles('../data/employee_profiles.json')\n",
        "print(f\"📥 Loaded {len(employee_profiles)} employee profiles\")\n",
        "\n",
        "# Display first employee profile\n",
        "if employee_profiles:\n",
        "    print(\"\\n👤 Sample Employee Profile:\")\n",
        "    first_employee = employee_profiles[0]\n",
        "    for key, value in first_employee.items():\n",
        "        print(f\"  {key}: {value}\")\n",
        "\n",
        "# Create sample task data for demonstration\n",
        "print(\"\\n🔄 Creating sample task data...\")\n",
        "sample_tasks = create_sample_priority_data(n_samples=100)\n",
        "print(f\"✅ Created {len(sample_tasks)} sample tasks\")\n",
        "\n",
        "# Display sample task data info\n",
        "print(\"\\n📊 Sample Task Data Overview:\")\n",
        "print(sample_tasks.info())\n",
        "print(f\"\\nColumns: {list(sample_tasks.columns)}\")\n",
        "print(f\"\\nFirst few rows:\")\n",
        "sample_tasks.head()\n"
      ]
    }
  ],
  "metadata": {
    "language_info": {
      "name": "python"
    }
  },
  "nbformat": 4,
  "nbformat_minor": 2
}
